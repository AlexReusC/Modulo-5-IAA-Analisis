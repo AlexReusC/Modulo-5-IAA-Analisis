{
 "cells": [
  {
   "cell_type": "code",
   "execution_count": 84,
   "metadata": {},
   "outputs": [],
   "source": [
    "import pandas as pd\n",
    "import numpy as np\n",
    "from matplotlib import pyplot\n",
    "from statsmodels.tsa.stattools import adfuller\n",
    "from statsmodels.tsa.statespace.sarimax import SARIMAX\n",
    "from statsmodels.graphics.tsaplots import plot_pacf\n",
    "from statsmodels.graphics.tsaplots import plot_acf\n",
    "import warnings\n",
    "warnings.filterwarnings('ignore')"
   ]
  },
  {
   "cell_type": "code",
   "execution_count": 85,
   "metadata": {},
   "outputs": [
    {
     "data": {
      "text/html": [
       "<div>\n",
       "<style scoped>\n",
       "    .dataframe tbody tr th:only-of-type {\n",
       "        vertical-align: middle;\n",
       "    }\n",
       "\n",
       "    .dataframe tbody tr th {\n",
       "        vertical-align: top;\n",
       "    }\n",
       "\n",
       "    .dataframe thead th {\n",
       "        text-align: right;\n",
       "    }\n",
       "</style>\n",
       "<table border=\"1\" class=\"dataframe\">\n",
       "  <thead>\n",
       "    <tr style=\"text-align: right;\">\n",
       "      <th></th>\n",
       "      <th>period</th>\n",
       "      <th>value</th>\n",
       "    </tr>\n",
       "  </thead>\n",
       "  <tbody>\n",
       "    <tr>\n",
       "      <th>0</th>\n",
       "      <td>1993/01</td>\n",
       "      <td>60.407691</td>\n",
       "    </tr>\n",
       "    <tr>\n",
       "      <th>1</th>\n",
       "      <td>1993/02</td>\n",
       "      <td>61.022521</td>\n",
       "    </tr>\n",
       "    <tr>\n",
       "      <th>2</th>\n",
       "      <td>1993/03</td>\n",
       "      <td>63.943249</td>\n",
       "    </tr>\n",
       "    <tr>\n",
       "      <th>3</th>\n",
       "      <td>1993/04</td>\n",
       "      <td>61.865984</td>\n",
       "    </tr>\n",
       "    <tr>\n",
       "      <th>4</th>\n",
       "      <td>1993/05</td>\n",
       "      <td>63.612900</td>\n",
       "    </tr>\n",
       "    <tr>\n",
       "      <th>...</th>\n",
       "      <td>...</td>\n",
       "      <td>...</td>\n",
       "    </tr>\n",
       "    <tr>\n",
       "      <th>350</th>\n",
       "      <td>2022/03</td>\n",
       "      <td>111.940152</td>\n",
       "    </tr>\n",
       "    <tr>\n",
       "      <th>351</th>\n",
       "      <td>2022/04</td>\n",
       "      <td>109.529866</td>\n",
       "    </tr>\n",
       "    <tr>\n",
       "      <th>352</th>\n",
       "      <td>2022/05</td>\n",
       "      <td>114.442424</td>\n",
       "    </tr>\n",
       "    <tr>\n",
       "      <th>353</th>\n",
       "      <td>2022/06</td>\n",
       "      <td>112.797501</td>\n",
       "    </tr>\n",
       "    <tr>\n",
       "      <th>354</th>\n",
       "      <td>2022/07</td>\n",
       "      <td>111.274552</td>\n",
       "    </tr>\n",
       "  </tbody>\n",
       "</table>\n",
       "<p>355 rows × 2 columns</p>\n",
       "</div>"
      ],
      "text/plain": [
       "      period       value\n",
       "0    1993/01   60.407691\n",
       "1    1993/02   61.022521\n",
       "2    1993/03   63.943249\n",
       "3    1993/04   61.865984\n",
       "4    1993/05   63.612900\n",
       "..       ...         ...\n",
       "350  2022/03  111.940152\n",
       "351  2022/04  109.529866\n",
       "352  2022/05  114.442424\n",
       "353  2022/06  112.797501\n",
       "354  2022/07  111.274552\n",
       "\n",
       "[355 rows x 2 columns]"
      ]
     },
     "execution_count": 85,
     "metadata": {},
     "output_type": "execute_result"
    }
   ],
   "source": [
    "df = pd.read_csv(\"Indicadores20221007105052.csv\")\n",
    "df.rename(columns={\"Periodo\": \"period\", \"Valor\": \"value\"}, inplace=True)\n",
    "df"
   ]
  },
  {
   "cell_type": "code",
   "execution_count": 86,
   "metadata": {},
   "outputs": [
    {
     "data": {
      "text/html": [
       "<div>\n",
       "<style scoped>\n",
       "    .dataframe tbody tr th:only-of-type {\n",
       "        vertical-align: middle;\n",
       "    }\n",
       "\n",
       "    .dataframe tbody tr th {\n",
       "        vertical-align: top;\n",
       "    }\n",
       "\n",
       "    .dataframe thead th {\n",
       "        text-align: right;\n",
       "    }\n",
       "</style>\n",
       "<table border=\"1\" class=\"dataframe\">\n",
       "  <thead>\n",
       "    <tr style=\"text-align: right;\">\n",
       "      <th></th>\n",
       "      <th>period</th>\n",
       "      <th>value</th>\n",
       "      <th>log_value</th>\n",
       "      <th>annual_change</th>\n",
       "    </tr>\n",
       "  </thead>\n",
       "  <tbody>\n",
       "    <tr>\n",
       "      <th>12</th>\n",
       "      <td>1994/01</td>\n",
       "      <td>63.029268</td>\n",
       "      <td>4.143599</td>\n",
       "      <td>0.042483</td>\n",
       "    </tr>\n",
       "    <tr>\n",
       "      <th>13</th>\n",
       "      <td>1994/02</td>\n",
       "      <td>62.733156</td>\n",
       "      <td>4.138890</td>\n",
       "      <td>0.027647</td>\n",
       "    </tr>\n",
       "    <tr>\n",
       "      <th>14</th>\n",
       "      <td>1994/03</td>\n",
       "      <td>65.790275</td>\n",
       "      <td>4.186472</td>\n",
       "      <td>0.028476</td>\n",
       "    </tr>\n",
       "    <tr>\n",
       "      <th>15</th>\n",
       "      <td>1994/04</td>\n",
       "      <td>65.891716</td>\n",
       "      <td>4.188013</td>\n",
       "      <td>0.063042</td>\n",
       "    </tr>\n",
       "    <tr>\n",
       "      <th>16</th>\n",
       "      <td>1994/05</td>\n",
       "      <td>66.858802</td>\n",
       "      <td>4.202583</td>\n",
       "      <td>0.049767</td>\n",
       "    </tr>\n",
       "    <tr>\n",
       "      <th>...</th>\n",
       "      <td>...</td>\n",
       "      <td>...</td>\n",
       "      <td>...</td>\n",
       "      <td>...</td>\n",
       "    </tr>\n",
       "    <tr>\n",
       "      <th>350</th>\n",
       "      <td>2022/03</td>\n",
       "      <td>111.940152</td>\n",
       "      <td>4.717964</td>\n",
       "      <td>0.003661</td>\n",
       "    </tr>\n",
       "    <tr>\n",
       "      <th>351</th>\n",
       "      <td>2022/04</td>\n",
       "      <td>109.529866</td>\n",
       "      <td>4.696197</td>\n",
       "      <td>0.013414</td>\n",
       "    </tr>\n",
       "    <tr>\n",
       "      <th>352</th>\n",
       "      <td>2022/05</td>\n",
       "      <td>114.442424</td>\n",
       "      <td>4.740072</td>\n",
       "      <td>0.021001</td>\n",
       "    </tr>\n",
       "    <tr>\n",
       "      <th>353</th>\n",
       "      <td>2022/06</td>\n",
       "      <td>112.797501</td>\n",
       "      <td>4.725594</td>\n",
       "      <td>0.014522</td>\n",
       "    </tr>\n",
       "    <tr>\n",
       "      <th>354</th>\n",
       "      <td>2022/07</td>\n",
       "      <td>111.274552</td>\n",
       "      <td>4.712001</td>\n",
       "      <td>0.012631</td>\n",
       "    </tr>\n",
       "  </tbody>\n",
       "</table>\n",
       "<p>343 rows × 4 columns</p>\n",
       "</div>"
      ],
      "text/plain": [
       "      period       value  log_value  annual_change\n",
       "12   1994/01   63.029268   4.143599       0.042483\n",
       "13   1994/02   62.733156   4.138890       0.027647\n",
       "14   1994/03   65.790275   4.186472       0.028476\n",
       "15   1994/04   65.891716   4.188013       0.063042\n",
       "16   1994/05   66.858802   4.202583       0.049767\n",
       "..       ...         ...        ...            ...\n",
       "350  2022/03  111.940152   4.717964       0.003661\n",
       "351  2022/04  109.529866   4.696197       0.013414\n",
       "352  2022/05  114.442424   4.740072       0.021001\n",
       "353  2022/06  112.797501   4.725594       0.014522\n",
       "354  2022/07  111.274552   4.712001       0.012631\n",
       "\n",
       "[343 rows x 4 columns]"
      ]
     },
     "execution_count": 86,
     "metadata": {},
     "output_type": "execute_result"
    }
   ],
   "source": [
    "df[\"log_value\"] = np.log(df[\"value\"])\n",
    "df[\"annual_change\"] = np.log(df[\"value\"]).diff(12)\n",
    "df[\"annual_change\"].iloc[0] = np.log(df[\"value\"].iloc[0])\n",
    "df.drop(df.index[0:12], inplace=True) #values with nan's\n",
    "df"
   ]
  },
  {
   "cell_type": "markdown",
   "metadata": {},
   "source": [
    "### 1. Realizar pruebas estadísticas de estacionariedad y decide el tipo de transformación de la variable"
   ]
  },
  {
   "cell_type": "code",
   "execution_count": 87,
   "metadata": {},
   "outputs": [
    {
     "name": "stdout",
     "output_type": "stream",
     "text": [
      "Value T-value: -1.5232968044348414\n",
      "Value P-value: 0.5219568846113426\n",
      "Log value T-value: -2.182176648506058\n",
      "Log value P-value: 0.212777780548218\n"
     ]
    }
   ],
   "source": [
    "af_v, af_vlog = adfuller(df[\"value\"]), adfuller(df[\"log_value\"]) #d=0, D=0\n",
    "print(f\"Value T-value: {af_v[0]}\")\n",
    "print(f\"Value P-value: {af_v[1]}\")\n",
    "print(f\"Log value T-value: {af_vlog[0]}\")\n",
    "print(f\"Log value P-value: {af_vlog[1]}\")"
   ]
  },
  {
   "cell_type": "markdown",
   "metadata": {},
   "source": [
    "P-value de 0.52 y 0.21. Por lo tanto no se puede decir con confianza que el dataset es estacionario cuando d=0 y D=0"
   ]
  },
  {
   "cell_type": "code",
   "execution_count": 88,
   "metadata": {},
   "outputs": [
    {
     "name": "stdout",
     "output_type": "stream",
     "text": [
      "T-value: -3.767291622294237\n",
      "P-value: 0.0032602635598127376\n"
     ]
    }
   ],
   "source": [
    "af_ac = adfuller(df[\"annual_change\"]) #d=0, D=1\n",
    "print(f\"T-value: {af_ac[0]}\")\n",
    "print(f\"P-value: {af_ac[1]}\")"
   ]
  },
  {
   "cell_type": "markdown",
   "metadata": {},
   "source": [
    "P-value de 0.003, se puede decir con confianza que con d=0 y D=1 el dataset se ha vuelto estacionario. Podemos proceder a p, q, P y Q."
   ]
  },
  {
   "cell_type": "markdown",
   "metadata": {},
   "source": [
    "### 2. Calibra un modelo ARIMA-SARIMA basado en pruebas y gráficos de autocorrelaciones . Explica claramente el proceso de calibración y la razón de cómo va modificando los parámetros."
   ]
  },
  {
   "cell_type": "code",
   "execution_count": 89,
   "metadata": {},
   "outputs": [
    {
     "data": {
      "image/png": "[encoded data removed]",
      "text/plain": [
       "<Figure size 432x288 with 1 Axes>"
      ]
     },
     "metadata": {
      "needs_background": "light"
     },
     "output_type": "display_data"
    },
    {
     "data": {
      "image/png": "[encoded data removed]",
      "text/plain": [
       "<Figure size 432x288 with 1 Axes>"
      ]
     },
     "metadata": {
      "needs_background": "light"
     },
     "output_type": "display_data"
    }
   ],
   "source": [
    "plot_acf(df[\"annual_change\"]);\n",
    "plot_pacf(df[\"annual_change\"]);"
   ]
  },
  {
   "cell_type": "markdown",
   "metadata": {},
   "source": [
    "El ACF muestra 6 autocorrelaciones significativas mientras que el PACF muestra solo 1 autocorrelación parcial significativa, por lo tanto, se puede apostar por un modelo con p=1 y q=0."
   ]
  },
  {
   "cell_type": "code",
   "execution_count": 90,
   "metadata": {},
   "outputs": [
    {
     "data": {
      "text/html": [
       "<table class=\"simpletable\">\n",
       "<caption>SARIMAX Results</caption>\n",
       "<tr>\n",
       "  <th>Dep. Variable:</th>           <td>DS12.log_value</td>         <th>  No. Observations:  </th>    <td>331</td>   \n",
       "</tr>\n",
       "<tr>\n",
       "  <th>Model:</th>           <td>SARIMAX(1, 0, 0)x(0, 0, 0, 12)</td> <th>  Log Likelihood     </th>  <td>709.637</td> \n",
       "</tr>\n",
       "<tr>\n",
       "  <th>Date:</th>                   <td>Sun, 23 Oct 2022</td>        <th>  AIC                </th> <td>-1415.275</td>\n",
       "</tr>\n",
       "<tr>\n",
       "  <th>Time:</th>                       <td>20:53:51</td>            <th>  BIC                </th> <td>-1407.670</td>\n",
       "</tr>\n",
       "<tr>\n",
       "  <th>Sample:</th>                         <td>0</td>               <th>  HQIC               </th> <td>-1412.242</td>\n",
       "</tr>\n",
       "<tr>\n",
       "  <th></th>                             <td> - 331</td>             <th>                     </th>     <td> </td>    \n",
       "</tr>\n",
       "<tr>\n",
       "  <th>Covariance Type:</th>               <td>opg</td>              <th>                     </th>     <td> </td>    \n",
       "</tr>\n",
       "</table>\n",
       "<table class=\"simpletable\">\n",
       "<tr>\n",
       "     <td></td>       <th>coef</th>     <th>std err</th>      <th>z</th>      <th>P>|z|</th>  <th>[0.025</th>    <th>0.975]</th>  \n",
       "</tr>\n",
       "<tr>\n",
       "  <th>ar.L1</th>  <td>    0.8194</td> <td>    0.022</td> <td>   37.343</td> <td> 0.000</td> <td>    0.776</td> <td>    0.862</td>\n",
       "</tr>\n",
       "<tr>\n",
       "  <th>sigma2</th> <td>    0.0008</td> <td> 2.24e-05</td> <td>   35.776</td> <td> 0.000</td> <td>    0.001</td> <td>    0.001</td>\n",
       "</tr>\n",
       "</table>\n",
       "<table class=\"simpletable\">\n",
       "<tr>\n",
       "  <th>Ljung-Box (L1) (Q):</th>     <td>1.26</td> <th>  Jarque-Bera (JB):  </th> <td>2809.03</td>\n",
       "</tr>\n",
       "<tr>\n",
       "  <th>Prob(Q):</th>                <td>0.26</td> <th>  Prob(JB):          </th>  <td>0.00</td>  \n",
       "</tr>\n",
       "<tr>\n",
       "  <th>Heteroskedasticity (H):</th> <td>2.20</td> <th>  Skew:              </th>  <td>-0.38</td> \n",
       "</tr>\n",
       "<tr>\n",
       "  <th>Prob(H) (two-sided):</th>    <td>0.00</td> <th>  Kurtosis:          </th>  <td>17.25</td> \n",
       "</tr>\n",
       "</table><br/><br/>Warnings:<br/>[1] Covariance matrix calculated using the outer product of gradients (complex-step)."
      ],
      "text/plain": [
       "<class 'statsmodels.iolib.summary.Summary'>\n",
       "\"\"\"\n",
       "                                     SARIMAX Results                                      \n",
       "==========================================================================================\n",
       "Dep. Variable:                     DS12.log_value   No. Observations:                  331\n",
       "Model:             SARIMAX(1, 0, 0)x(0, 0, 0, 12)   Log Likelihood                 709.637\n",
       "Date:                            Sun, 23 Oct 2022   AIC                          -1415.275\n",
       "Time:                                    20:53:51   BIC                          -1407.670\n",
       "Sample:                                         0   HQIC                         -1412.242\n",
       "                                            - 331                                         \n",
       "Covariance Type:                              opg                                         \n",
       "==============================================================================\n",
       "                 coef    std err          z      P>|z|      [0.025      0.975]\n",
       "------------------------------------------------------------------------------\n",
       "ar.L1          0.8194      0.022     37.343      0.000       0.776       0.862\n",
       "sigma2         0.0008   2.24e-05     35.776      0.000       0.001       0.001\n",
       "===================================================================================\n",
       "Ljung-Box (L1) (Q):                   1.26   Jarque-Bera (JB):              2809.03\n",
       "Prob(Q):                              0.26   Prob(JB):                         0.00\n",
       "Heteroskedasticity (H):               2.20   Skew:                            -0.38\n",
       "Prob(H) (two-sided):                  0.00   Kurtosis:                        17.25\n",
       "===================================================================================\n",
       "\n",
       "Warnings:\n",
       "[1] Covariance matrix calculated using the outer product of gradients (complex-step).\n",
       "\"\"\""
      ]
     },
     "execution_count": 90,
     "metadata": {},
     "output_type": "execute_result"
    }
   ],
   "source": [
    "model1 = SARIMAX(df[\"log_value\"], order=(1,0,0), seasonal_order=(0,1,0,12), simple_differencing=True).fit()\n",
    "model1.summary()"
   ]
  },
  {
   "cell_type": "code",
   "execution_count": 95,
   "metadata": {},
   "outputs": [
    {
     "data": {
      "image/png": "[encoded data removed]",
      "text/plain": [
       "<Figure size 432x288 with 1 Axes>"
      ]
     },
     "metadata": {
      "needs_background": "light"
     },
     "output_type": "display_data"
    }
   ],
   "source": [
    "plot_acf(model1.resid);"
   ]
  },
  {
   "cell_type": "markdown",
   "metadata": {},
   "source": [
    "Se puede ver un valor negativo en la autocorrelación 12, lo que nos indica un Q (q seasonal)"
   ]
  },
  {
   "cell_type": "code",
   "execution_count": 92,
   "metadata": {},
   "outputs": [
    {
     "data": {
      "text/html": [
       "<table class=\"simpletable\">\n",
       "<caption>SARIMAX Results</caption>\n",
       "<tr>\n",
       "  <th>Dep. Variable:</th>            <td>DS12.log_value</td>          <th>  No. Observations:  </th>    <td>331</td>   \n",
       "</tr>\n",
       "<tr>\n",
       "  <th>Model:</th>           <td>SARIMAX(1, 0, 0)x(0, 0, [1], 12)</td> <th>  Log Likelihood     </th>  <td>766.106</td> \n",
       "</tr>\n",
       "<tr>\n",
       "  <th>Date:</th>                    <td>Sun, 23 Oct 2022</td>         <th>  AIC                </th> <td>-1526.212</td>\n",
       "</tr>\n",
       "<tr>\n",
       "  <th>Time:</th>                        <td>20:53:54</td>             <th>  BIC                </th> <td>-1514.806</td>\n",
       "</tr>\n",
       "<tr>\n",
       "  <th>Sample:</th>                          <td>0</td>                <th>  HQIC               </th> <td>-1521.663</td>\n",
       "</tr>\n",
       "<tr>\n",
       "  <th></th>                              <td> - 331</td>              <th>                     </th>     <td> </td>    \n",
       "</tr>\n",
       "<tr>\n",
       "  <th>Covariance Type:</th>                <td>opg</td>               <th>                     </th>     <td> </td>    \n",
       "</tr>\n",
       "</table>\n",
       "<table class=\"simpletable\">\n",
       "<tr>\n",
       "      <td></td>        <th>coef</th>     <th>std err</th>      <th>z</th>      <th>P>|z|</th>  <th>[0.025</th>    <th>0.975]</th>  \n",
       "</tr>\n",
       "<tr>\n",
       "  <th>ar.L1</th>    <td>    0.9810</td> <td>    0.014</td> <td>   72.554</td> <td> 0.000</td> <td>    0.955</td> <td>    1.008</td>\n",
       "</tr>\n",
       "<tr>\n",
       "  <th>ma.S.L12</th> <td>   -0.8390</td> <td>    0.046</td> <td>  -18.166</td> <td> 0.000</td> <td>   -0.929</td> <td>   -0.748</td>\n",
       "</tr>\n",
       "<tr>\n",
       "  <th>sigma2</th>   <td>    0.0005</td> <td> 1.43e-05</td> <td>   38.038</td> <td> 0.000</td> <td>    0.001</td> <td>    0.001</td>\n",
       "</tr>\n",
       "</table>\n",
       "<table class=\"simpletable\">\n",
       "<tr>\n",
       "  <th>Ljung-Box (L1) (Q):</th>     <td>10.60</td> <th>  Jarque-Bera (JB):  </th> <td>5301.77</td>\n",
       "</tr>\n",
       "<tr>\n",
       "  <th>Prob(Q):</th>                <td>0.00</td>  <th>  Prob(JB):          </th>  <td>0.00</td>  \n",
       "</tr>\n",
       "<tr>\n",
       "  <th>Heteroskedasticity (H):</th> <td>2.14</td>  <th>  Skew:              </th>  <td>-1.76</td> \n",
       "</tr>\n",
       "<tr>\n",
       "  <th>Prob(H) (two-sided):</th>    <td>0.00</td>  <th>  Kurtosis:          </th>  <td>22.29</td> \n",
       "</tr>\n",
       "</table><br/><br/>Warnings:<br/>[1] Covariance matrix calculated using the outer product of gradients (complex-step)."
      ],
      "text/plain": [
       "<class 'statsmodels.iolib.summary.Summary'>\n",
       "\"\"\"\n",
       "                                      SARIMAX Results                                       \n",
       "============================================================================================\n",
       "Dep. Variable:                       DS12.log_value   No. Observations:                  331\n",
       "Model:             SARIMAX(1, 0, 0)x(0, 0, [1], 12)   Log Likelihood                 766.106\n",
       "Date:                              Sun, 23 Oct 2022   AIC                          -1526.212\n",
       "Time:                                      20:53:54   BIC                          -1514.806\n",
       "Sample:                                           0   HQIC                         -1521.663\n",
       "                                              - 331                                         \n",
       "Covariance Type:                                opg                                         \n",
       "==============================================================================\n",
       "                 coef    std err          z      P>|z|      [0.025      0.975]\n",
       "------------------------------------------------------------------------------\n",
       "ar.L1          0.9810      0.014     72.554      0.000       0.955       1.008\n",
       "ma.S.L12      -0.8390      0.046    -18.166      0.000      -0.929      -0.748\n",
       "sigma2         0.0005   1.43e-05     38.038      0.000       0.001       0.001\n",
       "===================================================================================\n",
       "Ljung-Box (L1) (Q):                  10.60   Jarque-Bera (JB):              5301.77\n",
       "Prob(Q):                              0.00   Prob(JB):                         0.00\n",
       "Heteroskedasticity (H):               2.14   Skew:                            -1.76\n",
       "Prob(H) (two-sided):                  0.00   Kurtosis:                        22.29\n",
       "===================================================================================\n",
       "\n",
       "Warnings:\n",
       "[1] Covariance matrix calculated using the outer product of gradients (complex-step).\n",
       "\"\"\""
      ]
     },
     "execution_count": 92,
     "metadata": {},
     "output_type": "execute_result"
    }
   ],
   "source": [
    "model2 = SARIMAX(df[\"log_value\"], order=(1,0,0), seasonal_order=(0,1,1,12), simple_differencing=True).fit()\n",
    "model2.summary()"
   ]
  },
  {
   "cell_type": "code",
   "execution_count": 96,
   "metadata": {},
   "outputs": [
    {
     "data": {
      "image/png": "[encoded data removed]",
      "text/plain": [
       "<Figure size 432x288 with 1 Axes>"
      ]
     },
     "metadata": {
      "needs_background": "light"
     },
     "output_type": "display_data"
    }
   ],
   "source": [
    "plot_acf(model2.resid);"
   ]
  },
  {
   "cell_type": "markdown",
   "metadata": {},
   "source": [
    "Aunque se pueden ver varios puntos que apenas pasan el umbral del intervalo de confianza ya no tienen tanta correlación como el que aparecía anteriormente por lo que pueden ser omitidos sin perder bastante poder explicativo"
   ]
  },
  {
   "cell_type": "markdown",
   "metadata": {},
   "source": [
    "### 3. Interpreta los coeficientes y su significancia estadística del modelo calibrado"
   ]
  },
  {
   "cell_type": "markdown",
   "metadata": {},
   "source": [
    "La variable que se está analizando es el crecimiento anual en porcentaje mes a mes de la economía mexicana. La misma variable un mes anterior afectará al modelo en un 98% (entiendase como que habrá un nuevo término en el modelo final de 0.98 * varibleMesAnterior) y de forma negativa en un 83% del shock del año anterior. Se puede ver que los P-value son iguales a 0, por lo que se puede decir con confianza que las variables son estadísticamente significativas"
   ]
  },
  {
   "cell_type": "markdown",
   "metadata": {},
   "source": [
    "### 4. Realiza una predicción de la variable utilizando el modelo calibrado."
   ]
  },
  {
   "cell_type": "code",
   "execution_count": 97,
   "metadata": {},
   "outputs": [
    {
     "data": {
      "image/png": "[encoded data removed]",
      "text/plain": [
       "<Figure size 432x288 with 1 Axes>"
      ]
     },
     "metadata": {
      "needs_background": "light"
     },
     "output_type": "display_data"
    }
   ],
   "source": [
    "#return to original value\n",
    "result = model2.predict(start=df[\"annual_change\"].shape[0], end=df[\"annual_change\"].shape[0]+24)\n",
    "result = np.exp(result)\n",
    "last_24_months = df[\"value\"].tail(24)\n",
    "result.reset_index(drop=True, inplace=True)\n",
    "last_24_months.reset_index(drop=True, inplace=True)\n",
    "result_original_value = result.add(last_24_months)\n",
    "\n",
    "#change index for plotting\n",
    "first_index = df[\"value\"].tail(1).index.item() + 1\n",
    "result_original_value.index += first_index\n",
    "\n",
    "#plot\n",
    "df[\"value\"].plot()\n",
    "result_original_value.plot()\n",
    "pyplot.show()"
   ]
  }
 ],
 "metadata": {
  "kernelspec": {
   "display_name": "Python 3.8.10 64-bit",
   "language": "python",
   "name": "python3"
  },
  "language_info": {
   "codemirror_mode": {
    "name": "ipython",
    "version": 3
   },
   "file_extension": ".py",
   "mimetype": "text/x-python",
   "name": "python",
   "nbconvert_exporter": "python",
   "pygments_lexer": "ipython3",
   "version": "3.8.10"
  },
  "orig_nbformat": 4,
  "vscode": {
   "interpreter": {
    "hash": "916dbcbb3f70747c44a77c7bcd40155683ae19c65e1c03b4aa3499c5328201f1"
   }
  }
 },
 "nbformat": 4,
 "nbformat_minor": 2
}
